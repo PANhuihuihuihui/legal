{
 "cells": [
  {
   "cell_type": "code",
   "execution_count": 1,
   "metadata": {},
   "outputs": [],
   "source": [
    "# build hugface datasets\n",
    "from datasets import load_dataset\n",
    "from transformers import AutoTokenizer\n",
    "\n",
    "tokenizer = AutoTokenizer.from_pretrained(\"bert-base-multilingual-uncased\")\n",
    "# processin funtion\n",
    "def lowercase_condition(examples):\n",
    "    examples[\"paragraphs\"] = [x.lower() for x in examples[\"paragraphs\"]]\n",
    "    return  examples\n",
    "\n",
    "def filter_nones(x):\n",
    "    return x[\"condition\"] is not None\n",
    "# filter only provide __liter__ __next__ so the return type is filter\n",
    "# map batch== True require the example be list type\n",
    "# Remark: did before turn into datasets\n",
    "# def filter_sentence_length(example):\n",
    "#     print()\n",
    "#     for _ in example[\"paragraphs\"]:\n",
    "\n",
    "#     add_on = list(filter(lambda x: len(x) > 5 ,example[\"paragraphs\"]))\n",
    "#     example[\"paragraphs\"] = add_on \n",
    "#     return example\n",
    "\n",
    "def tokenize_and_split(examples):\n",
    "    return tokenizer(\n",
    "        examples[\"paragraphs\"],\n",
    "        truncation=True,\n",
    "        max_length=512,\n",
    "        return_overflowing_tokens=True,\n",
    "    )\n",
    "def tokenize_function(examples):\n",
    "    lower = [x.lower() for x in examples[\"paragraphs\"]]\n",
    "    result = tokenizer(lower)\n",
    "    if tokenizer.is_fast:\n",
    "        result[\"word_ids\"] = [result.word_ids(i) for i in range(len(result[\"input_ids\"]))]\n",
    "    return result"
   ]
  },
  {
   "cell_type": "code",
   "execution_count": 2,
   "metadata": {},
   "outputs": [
    {
     "name": "stderr",
     "output_type": "stream",
     "text": [
      "Using custom data configuration default-c6170874f18b4ae2\n"
     ]
    },
    {
     "name": "stdout",
     "output_type": "stream",
     "text": [
      "Downloading and preparing dataset json/default to /home/huijie/.cache/huggingface/datasets/json/default-c6170874f18b4ae2/0.0.0/ac0ca5f5289a6cf108e706efcf040422dbbfa8e658dee6a819f20d76bb84d26b...\n"
     ]
    },
    {
     "data": {
      "application/vnd.jupyter.widget-view+json": {
       "model_id": "7807112c6c89442fb8a9c2115c8950aa",
       "version_major": 2,
       "version_minor": 0
      },
      "text/plain": [
       "  0%|          | 0/1 [00:00<?, ?it/s]"
      ]
     },
     "metadata": {},
     "output_type": "display_data"
    },
    {
     "data": {
      "application/vnd.jupyter.widget-view+json": {
       "model_id": "6a6a5a5dff084c9d8a53ca94dd992112",
       "version_major": 2,
       "version_minor": 0
      },
      "text/plain": [
       "  0%|          | 0/1 [00:00<?, ?it/s]"
      ]
     },
     "metadata": {},
     "output_type": "display_data"
    },
    {
     "name": "stdout",
     "output_type": "stream",
     "text": [
      "Dataset json downloaded and prepared to /home/huijie/.cache/huggingface/datasets/json/default-c6170874f18b4ae2/0.0.0/ac0ca5f5289a6cf108e706efcf040422dbbfa8e658dee6a819f20d76bb84d26b. Subsequent calls will reuse this data.\n"
     ]
    },
    {
     "data": {
      "application/vnd.jupyter.widget-view+json": {
       "model_id": "667c9e69b0c540dabb63e0e0c4105402",
       "version_major": 2,
       "version_minor": 0
      },
      "text/plain": [
       "  0%|          | 0/1 [00:00<?, ?it/s]"
      ]
     },
     "metadata": {},
     "output_type": "display_data"
    },
    {
     "name": "stdout",
     "output_type": "stream",
     "text": [
      "DatasetDict({\n",
      "    train: Dataset({\n",
      "        features: ['labels', 'sentence', 'class'],\n",
      "        num_rows: 20241\n",
      "    })\n",
      "    test: Dataset({\n",
      "        features: ['labels', 'sentence', 'class'],\n",
      "        num_rows: 2250\n",
      "    })\n",
      "})\n"
     ]
    }
   ],
   "source": [
    "dataset = load_dataset(\"json\", data_files=\"/home/huijie/legal/mymodel/data/legal_element.json\")\n",
    "# print(hklii_dataset)\n",
    "#hklii_dataset = hklii_dataset.shuffle(seed=42) # not need for this step\n",
    "# hklii_dataset = hklii_dataset.map(\n",
    "#     lowercase_condition, batched=True,num_proc = 16\n",
    "# )\n",
    "dataset = dataset[\"train\"].train_test_split(test_size=0.1)\n",
    "print(dataset)"
   ]
  },
  {
   "cell_type": "code",
   "execution_count": null,
   "metadata": {},
   "outputs": [],
   "source": []
  },
  {
   "cell_type": "code",
   "execution_count": null,
   "metadata": {},
   "outputs": [],
   "source": []
  },
  {
   "cell_type": "code",
   "execution_count": null,
   "metadata": {},
   "outputs": [],
   "source": []
  },
  {
   "cell_type": "code",
   "execution_count": null,
   "metadata": {},
   "outputs": [],
   "source": []
  }
 ],
 "metadata": {
  "interpreter": {
   "hash": "344c146f3d74f7efd360abb5a7510a11c28372d218d34b58ffcf5f0c0e1377b6"
  },
  "kernelspec": {
   "display_name": "Python 3.8.12 ('hugface')",
   "language": "python",
   "name": "python3"
  },
  "language_info": {
   "codemirror_mode": {
    "name": "ipython",
    "version": 3
   },
   "file_extension": ".py",
   "mimetype": "text/x-python",
   "name": "python",
   "nbconvert_exporter": "python",
   "pygments_lexer": "ipython3",
   "version": "3.8.12"
  },
  "orig_nbformat": 4
 },
 "nbformat": 4,
 "nbformat_minor": 2
}
