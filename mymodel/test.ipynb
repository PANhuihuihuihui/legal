{
 "cells": [
  {
   "cell_type": "code",
   "execution_count": 1,
   "metadata": {},
   "outputs": [],
   "source": [
    "# build hugface datasets\n",
    "from datasets import load_dataset\n",
    "from transformers import AutoTokenizer\n",
    "\n",
    "tokenizer = AutoTokenizer.from_pretrained(\"bert-base-multilingual-uncased\")\n",
    "# processin funtion\n",
    "def lowercase_condition(examples):\n",
    "    examples[\"paragraphs\"] = [x.lower() for x in examples[\"paragraphs\"]]\n",
    "    return  examples\n",
    "\n",
    "def filter_nones(x):\n",
    "    return x[\"condition\"] is not None\n",
    "# filter only provide __liter__ __next__ so the return type is filter\n",
    "# map batch== True require the example be list type\n",
    "# Remark: did before turn into datasets\n",
    "# def filter_sentence_length(example):\n",
    "#     print()\n",
    "#     for _ in example[\"paragraphs\"]:\n",
    "\n",
    "#     add_on = list(filter(lambda x: len(x) > 5 ,example[\"paragraphs\"]))\n",
    "#     example[\"paragraphs\"] = add_on \n",
    "#     return example\n",
    "\n",
    "def tokenize_and_split(examples):\n",
    "    return tokenizer(\n",
    "        examples[\"paragraphs\"],\n",
    "        truncation=True,\n",
    "        max_length=512,\n",
    "        return_overflowing_tokens=True,\n",
    "    )\n",
    "def tokenize_function(examples):\n",
    "    lower = [x.lower() for x in examples[\"paragraphs\"]]\n",
    "    result = tokenizer(lower)\n",
    "    if tokenizer.is_fast:\n",
    "        result[\"word_ids\"] = [result.word_ids(i) for i in range(len(result[\"input_ids\"]))]\n",
    "    return result"
   ]
  },
  {
   "cell_type": "code",
   "execution_count": 2,
   "metadata": {},
   "outputs": [
    {
     "name": "stderr",
     "output_type": "stream",
     "text": [
      "Using custom data configuration default-37d708ab0ebc8254\n"
     ]
    },
    {
     "name": "stdout",
     "output_type": "stream",
     "text": [
      "Downloading and preparing dataset json/default to /home/huijie/.cache/huggingface/datasets/json/default-37d708ab0ebc8254/0.0.0/ac0ca5f5289a6cf108e706efcf040422dbbfa8e658dee6a819f20d76bb84d26b...\n"
     ]
    },
    {
     "data": {
      "application/vnd.jupyter.widget-view+json": {
       "model_id": "66d6334634c44a3786aaca8e8e992626",
       "version_major": 2,
       "version_minor": 0
      },
      "text/plain": [
       "  0%|          | 0/1 [00:00<?, ?it/s]"
      ]
     },
     "metadata": {},
     "output_type": "display_data"
    },
    {
     "data": {
      "application/vnd.jupyter.widget-view+json": {
       "model_id": "be877b25856c48bf84fe8d90c24d6a52",
       "version_major": 2,
       "version_minor": 0
      },
      "text/plain": [
       "  0%|          | 0/1 [00:00<?, ?it/s]"
      ]
     },
     "metadata": {},
     "output_type": "display_data"
    },
    {
     "name": "stderr",
     "output_type": "stream",
     "text": [
      "Failed to read file '/home/huijie/legal/cail2019_track2/data/divorce/train_selected.json' with error <class 'pyarrow.lib.ArrowInvalid'>: JSON parse error: Column() changed from object to array in row 0\n"
     ]
    },
    {
     "ename": "ArrowInvalid",
     "evalue": "JSON parse error: Column() changed from object to array in row 0",
     "output_type": "error",
     "traceback": [
      "\u001b[0;31m---------------------------------------------------------------------------\u001b[0m",
      "\u001b[0;31mJSONDecodeError\u001b[0m                           Traceback (most recent call last)",
      "File \u001b[0;32m~/miniconda3/envs/hugface/lib/python3.8/site-packages/datasets/packaged_modules/json/json.py:144\u001b[0m, in \u001b[0;36mJson._generate_tables\u001b[0;34m(self, files)\u001b[0m\n\u001b[1;32m    <a href='file:///home/huijie/miniconda3/envs/hugface/lib/python3.8/site-packages/datasets/packaged_modules/json/json.py?line=142'>143</a>\u001b[0m     \u001b[39mwith\u001b[39;00m \u001b[39mopen\u001b[39m(file, encoding\u001b[39m=\u001b[39m\u001b[39m\"\u001b[39m\u001b[39mutf-8\u001b[39m\u001b[39m\"\u001b[39m) \u001b[39mas\u001b[39;00m f:\n\u001b[0;32m--> <a href='file:///home/huijie/miniconda3/envs/hugface/lib/python3.8/site-packages/datasets/packaged_modules/json/json.py?line=143'>144</a>\u001b[0m         dataset \u001b[39m=\u001b[39m json\u001b[39m.\u001b[39;49mload(f)\n\u001b[1;32m    <a href='file:///home/huijie/miniconda3/envs/hugface/lib/python3.8/site-packages/datasets/packaged_modules/json/json.py?line=144'>145</a>\u001b[0m \u001b[39mexcept\u001b[39;00m json\u001b[39m.\u001b[39mJSONDecodeError:\n",
      "File \u001b[0;32m~/miniconda3/envs/hugface/lib/python3.8/json/__init__.py:293\u001b[0m, in \u001b[0;36mload\u001b[0;34m(fp, cls, object_hook, parse_float, parse_int, parse_constant, object_pairs_hook, **kw)\u001b[0m\n\u001b[1;32m    <a href='file:///home/huijie/miniconda3/envs/hugface/lib/python3.8/json/__init__.py?line=275'>276</a>\u001b[0m \u001b[39m\"\"\"Deserialize ``fp`` (a ``.read()``-supporting file-like object containing\u001b[39;00m\n\u001b[1;32m    <a href='file:///home/huijie/miniconda3/envs/hugface/lib/python3.8/json/__init__.py?line=276'>277</a>\u001b[0m \u001b[39ma JSON document) to a Python object.\u001b[39;00m\n\u001b[1;32m    <a href='file:///home/huijie/miniconda3/envs/hugface/lib/python3.8/json/__init__.py?line=277'>278</a>\u001b[0m \n\u001b[0;32m   (...)\u001b[0m\n\u001b[1;32m    <a href='file:///home/huijie/miniconda3/envs/hugface/lib/python3.8/json/__init__.py?line=290'>291</a>\u001b[0m \u001b[39mkwarg; otherwise ``JSONDecoder`` is used.\u001b[39;00m\n\u001b[1;32m    <a href='file:///home/huijie/miniconda3/envs/hugface/lib/python3.8/json/__init__.py?line=291'>292</a>\u001b[0m \u001b[39m\"\"\"\u001b[39;00m\n\u001b[0;32m--> <a href='file:///home/huijie/miniconda3/envs/hugface/lib/python3.8/json/__init__.py?line=292'>293</a>\u001b[0m \u001b[39mreturn\u001b[39;00m loads(fp\u001b[39m.\u001b[39;49mread(),\n\u001b[1;32m    <a href='file:///home/huijie/miniconda3/envs/hugface/lib/python3.8/json/__init__.py?line=293'>294</a>\u001b[0m     \u001b[39mcls\u001b[39;49m\u001b[39m=\u001b[39;49m\u001b[39mcls\u001b[39;49m, object_hook\u001b[39m=\u001b[39;49mobject_hook,\n\u001b[1;32m    <a href='file:///home/huijie/miniconda3/envs/hugface/lib/python3.8/json/__init__.py?line=294'>295</a>\u001b[0m     parse_float\u001b[39m=\u001b[39;49mparse_float, parse_int\u001b[39m=\u001b[39;49mparse_int,\n\u001b[1;32m    <a href='file:///home/huijie/miniconda3/envs/hugface/lib/python3.8/json/__init__.py?line=295'>296</a>\u001b[0m     parse_constant\u001b[39m=\u001b[39;49mparse_constant, object_pairs_hook\u001b[39m=\u001b[39;49mobject_pairs_hook, \u001b[39m*\u001b[39;49m\u001b[39m*\u001b[39;49mkw)\n",
      "File \u001b[0;32m~/miniconda3/envs/hugface/lib/python3.8/json/__init__.py:357\u001b[0m, in \u001b[0;36mloads\u001b[0;34m(s, cls, object_hook, parse_float, parse_int, parse_constant, object_pairs_hook, **kw)\u001b[0m\n\u001b[1;32m    <a href='file:///home/huijie/miniconda3/envs/hugface/lib/python3.8/json/__init__.py?line=353'>354</a>\u001b[0m \u001b[39mif\u001b[39;00m (\u001b[39mcls\u001b[39m \u001b[39mis\u001b[39;00m \u001b[39mNone\u001b[39;00m \u001b[39mand\u001b[39;00m object_hook \u001b[39mis\u001b[39;00m \u001b[39mNone\u001b[39;00m \u001b[39mand\u001b[39;00m\n\u001b[1;32m    <a href='file:///home/huijie/miniconda3/envs/hugface/lib/python3.8/json/__init__.py?line=354'>355</a>\u001b[0m         parse_int \u001b[39mis\u001b[39;00m \u001b[39mNone\u001b[39;00m \u001b[39mand\u001b[39;00m parse_float \u001b[39mis\u001b[39;00m \u001b[39mNone\u001b[39;00m \u001b[39mand\u001b[39;00m\n\u001b[1;32m    <a href='file:///home/huijie/miniconda3/envs/hugface/lib/python3.8/json/__init__.py?line=355'>356</a>\u001b[0m         parse_constant \u001b[39mis\u001b[39;00m \u001b[39mNone\u001b[39;00m \u001b[39mand\u001b[39;00m object_pairs_hook \u001b[39mis\u001b[39;00m \u001b[39mNone\u001b[39;00m \u001b[39mand\u001b[39;00m \u001b[39mnot\u001b[39;00m kw):\n\u001b[0;32m--> <a href='file:///home/huijie/miniconda3/envs/hugface/lib/python3.8/json/__init__.py?line=356'>357</a>\u001b[0m     \u001b[39mreturn\u001b[39;00m _default_decoder\u001b[39m.\u001b[39;49mdecode(s)\n\u001b[1;32m    <a href='file:///home/huijie/miniconda3/envs/hugface/lib/python3.8/json/__init__.py?line=357'>358</a>\u001b[0m \u001b[39mif\u001b[39;00m \u001b[39mcls\u001b[39m \u001b[39mis\u001b[39;00m \u001b[39mNone\u001b[39;00m:\n",
      "File \u001b[0;32m~/miniconda3/envs/hugface/lib/python3.8/json/decoder.py:340\u001b[0m, in \u001b[0;36mJSONDecoder.decode\u001b[0;34m(self, s, _w)\u001b[0m\n\u001b[1;32m    <a href='file:///home/huijie/miniconda3/envs/hugface/lib/python3.8/json/decoder.py?line=338'>339</a>\u001b[0m \u001b[39mif\u001b[39;00m end \u001b[39m!=\u001b[39m \u001b[39mlen\u001b[39m(s):\n\u001b[0;32m--> <a href='file:///home/huijie/miniconda3/envs/hugface/lib/python3.8/json/decoder.py?line=339'>340</a>\u001b[0m     \u001b[39mraise\u001b[39;00m JSONDecodeError(\u001b[39m\"\u001b[39m\u001b[39mExtra data\u001b[39m\u001b[39m\"\u001b[39m, s, end)\n\u001b[1;32m    <a href='file:///home/huijie/miniconda3/envs/hugface/lib/python3.8/json/decoder.py?line=340'>341</a>\u001b[0m \u001b[39mreturn\u001b[39;00m obj\n",
      "\u001b[0;31mJSONDecodeError\u001b[0m: Extra data: line 2 column 1 (char 6862)",
      "\nDuring handling of the above exception, another exception occurred:\n",
      "\u001b[0;31mArrowInvalid\u001b[0m                              Traceback (most recent call last)",
      "\u001b[1;32m/home/huijie/legal/mymodel/test.ipynb Cell 2'\u001b[0m in \u001b[0;36m<cell line: 1>\u001b[0;34m()\u001b[0m\n\u001b[0;32m----> <a href='vscode-notebook-cell://ssh-remote%2Blpk-gpu1.cs.hku.hk/home/huijie/legal/mymodel/test.ipynb#ch0000001vscode-remote?line=0'>1</a>\u001b[0m dataset \u001b[39m=\u001b[39m load_dataset(\u001b[39m\"\u001b[39;49m\u001b[39mjson\u001b[39;49m\u001b[39m\"\u001b[39;49m, data_files\u001b[39m=\u001b[39;49m\u001b[39m\"\u001b[39;49m\u001b[39m/home/huijie/legal/cail2019_track2/data/divorce/train_selected.json\u001b[39;49m\u001b[39m\"\u001b[39;49m)\n\u001b[1;32m      <a href='vscode-notebook-cell://ssh-remote%2Blpk-gpu1.cs.hku.hk/home/huijie/legal/mymodel/test.ipynb#ch0000001vscode-remote?line=1'>2</a>\u001b[0m \u001b[39m# print(hklii_dataset)\u001b[39;00m\n\u001b[1;32m      <a href='vscode-notebook-cell://ssh-remote%2Blpk-gpu1.cs.hku.hk/home/huijie/legal/mymodel/test.ipynb#ch0000001vscode-remote?line=2'>3</a>\u001b[0m \u001b[39m#hklii_dataset = hklii_dataset.shuffle(seed=42) # not need for this step\u001b[39;00m\n\u001b[1;32m      <a href='vscode-notebook-cell://ssh-remote%2Blpk-gpu1.cs.hku.hk/home/huijie/legal/mymodel/test.ipynb#ch0000001vscode-remote?line=3'>4</a>\u001b[0m \u001b[39m# hklii_dataset = hklii_dataset.map(\u001b[39;00m\n\u001b[1;32m      <a href='vscode-notebook-cell://ssh-remote%2Blpk-gpu1.cs.hku.hk/home/huijie/legal/mymodel/test.ipynb#ch0000001vscode-remote?line=4'>5</a>\u001b[0m \u001b[39m#     lowercase_condition, batched=True,num_proc = 16\u001b[39;00m\n\u001b[1;32m      <a href='vscode-notebook-cell://ssh-remote%2Blpk-gpu1.cs.hku.hk/home/huijie/legal/mymodel/test.ipynb#ch0000001vscode-remote?line=5'>6</a>\u001b[0m \u001b[39m# )\u001b[39;00m\n\u001b[1;32m      <a href='vscode-notebook-cell://ssh-remote%2Blpk-gpu1.cs.hku.hk/home/huijie/legal/mymodel/test.ipynb#ch0000001vscode-remote?line=6'>7</a>\u001b[0m dataset \u001b[39m=\u001b[39m dataset[\u001b[39m\"\u001b[39m\u001b[39mtrain\u001b[39m\u001b[39m\"\u001b[39m]\u001b[39m.\u001b[39mtrain_test_split(test_size\u001b[39m=\u001b[39m\u001b[39m0.1\u001b[39m)\n",
      "File \u001b[0;32m~/miniconda3/envs/hugface/lib/python3.8/site-packages/datasets/load.py:1702\u001b[0m, in \u001b[0;36mload_dataset\u001b[0;34m(path, name, data_dir, data_files, split, cache_dir, features, download_config, download_mode, ignore_verifications, keep_in_memory, save_infos, revision, use_auth_token, task, streaming, script_version, **config_kwargs)\u001b[0m\n\u001b[1;32m   <a href='file:///home/huijie/miniconda3/envs/hugface/lib/python3.8/site-packages/datasets/load.py?line=1698'>1699</a>\u001b[0m try_from_hf_gcs \u001b[39m=\u001b[39m path \u001b[39mnot\u001b[39;00m \u001b[39min\u001b[39;00m _PACKAGED_DATASETS_MODULES\n\u001b[1;32m   <a href='file:///home/huijie/miniconda3/envs/hugface/lib/python3.8/site-packages/datasets/load.py?line=1700'>1701</a>\u001b[0m \u001b[39m# Download and prepare data\u001b[39;00m\n\u001b[0;32m-> <a href='file:///home/huijie/miniconda3/envs/hugface/lib/python3.8/site-packages/datasets/load.py?line=1701'>1702</a>\u001b[0m builder_instance\u001b[39m.\u001b[39;49mdownload_and_prepare(\n\u001b[1;32m   <a href='file:///home/huijie/miniconda3/envs/hugface/lib/python3.8/site-packages/datasets/load.py?line=1702'>1703</a>\u001b[0m     download_config\u001b[39m=\u001b[39;49mdownload_config,\n\u001b[1;32m   <a href='file:///home/huijie/miniconda3/envs/hugface/lib/python3.8/site-packages/datasets/load.py?line=1703'>1704</a>\u001b[0m     download_mode\u001b[39m=\u001b[39;49mdownload_mode,\n\u001b[1;32m   <a href='file:///home/huijie/miniconda3/envs/hugface/lib/python3.8/site-packages/datasets/load.py?line=1704'>1705</a>\u001b[0m     ignore_verifications\u001b[39m=\u001b[39;49mignore_verifications,\n\u001b[1;32m   <a href='file:///home/huijie/miniconda3/envs/hugface/lib/python3.8/site-packages/datasets/load.py?line=1705'>1706</a>\u001b[0m     try_from_hf_gcs\u001b[39m=\u001b[39;49mtry_from_hf_gcs,\n\u001b[1;32m   <a href='file:///home/huijie/miniconda3/envs/hugface/lib/python3.8/site-packages/datasets/load.py?line=1706'>1707</a>\u001b[0m     use_auth_token\u001b[39m=\u001b[39;49muse_auth_token,\n\u001b[1;32m   <a href='file:///home/huijie/miniconda3/envs/hugface/lib/python3.8/site-packages/datasets/load.py?line=1707'>1708</a>\u001b[0m )\n\u001b[1;32m   <a href='file:///home/huijie/miniconda3/envs/hugface/lib/python3.8/site-packages/datasets/load.py?line=1709'>1710</a>\u001b[0m \u001b[39m# Build dataset for splits\u001b[39;00m\n\u001b[1;32m   <a href='file:///home/huijie/miniconda3/envs/hugface/lib/python3.8/site-packages/datasets/load.py?line=1710'>1711</a>\u001b[0m keep_in_memory \u001b[39m=\u001b[39m (\n\u001b[1;32m   <a href='file:///home/huijie/miniconda3/envs/hugface/lib/python3.8/site-packages/datasets/load.py?line=1711'>1712</a>\u001b[0m     keep_in_memory \u001b[39mif\u001b[39;00m keep_in_memory \u001b[39mis\u001b[39;00m \u001b[39mnot\u001b[39;00m \u001b[39mNone\u001b[39;00m \u001b[39melse\u001b[39;00m is_small_dataset(builder_instance\u001b[39m.\u001b[39minfo\u001b[39m.\u001b[39mdataset_size)\n\u001b[1;32m   <a href='file:///home/huijie/miniconda3/envs/hugface/lib/python3.8/site-packages/datasets/load.py?line=1712'>1713</a>\u001b[0m )\n",
      "File \u001b[0;32m~/miniconda3/envs/hugface/lib/python3.8/site-packages/datasets/builder.py:594\u001b[0m, in \u001b[0;36mDatasetBuilder.download_and_prepare\u001b[0;34m(self, download_config, download_mode, ignore_verifications, try_from_hf_gcs, dl_manager, base_path, use_auth_token, **download_and_prepare_kwargs)\u001b[0m\n\u001b[1;32m    <a href='file:///home/huijie/miniconda3/envs/hugface/lib/python3.8/site-packages/datasets/builder.py?line=591'>592</a>\u001b[0m         logger\u001b[39m.\u001b[39mwarning(\u001b[39m\"\u001b[39m\u001b[39mHF google storage unreachable. Downloading and preparing it from source\u001b[39m\u001b[39m\"\u001b[39m)\n\u001b[1;32m    <a href='file:///home/huijie/miniconda3/envs/hugface/lib/python3.8/site-packages/datasets/builder.py?line=592'>593</a>\u001b[0m \u001b[39mif\u001b[39;00m \u001b[39mnot\u001b[39;00m downloaded_from_gcs:\n\u001b[0;32m--> <a href='file:///home/huijie/miniconda3/envs/hugface/lib/python3.8/site-packages/datasets/builder.py?line=593'>594</a>\u001b[0m     \u001b[39mself\u001b[39;49m\u001b[39m.\u001b[39;49m_download_and_prepare(\n\u001b[1;32m    <a href='file:///home/huijie/miniconda3/envs/hugface/lib/python3.8/site-packages/datasets/builder.py?line=594'>595</a>\u001b[0m         dl_manager\u001b[39m=\u001b[39;49mdl_manager, verify_infos\u001b[39m=\u001b[39;49mverify_infos, \u001b[39m*\u001b[39;49m\u001b[39m*\u001b[39;49mdownload_and_prepare_kwargs\n\u001b[1;32m    <a href='file:///home/huijie/miniconda3/envs/hugface/lib/python3.8/site-packages/datasets/builder.py?line=595'>596</a>\u001b[0m     )\n\u001b[1;32m    <a href='file:///home/huijie/miniconda3/envs/hugface/lib/python3.8/site-packages/datasets/builder.py?line=596'>597</a>\u001b[0m \u001b[39m# Sync info\u001b[39;00m\n\u001b[1;32m    <a href='file:///home/huijie/miniconda3/envs/hugface/lib/python3.8/site-packages/datasets/builder.py?line=597'>598</a>\u001b[0m \u001b[39mself\u001b[39m\u001b[39m.\u001b[39minfo\u001b[39m.\u001b[39mdataset_size \u001b[39m=\u001b[39m \u001b[39msum\u001b[39m(split\u001b[39m.\u001b[39mnum_bytes \u001b[39mfor\u001b[39;00m split \u001b[39min\u001b[39;00m \u001b[39mself\u001b[39m\u001b[39m.\u001b[39minfo\u001b[39m.\u001b[39msplits\u001b[39m.\u001b[39mvalues())\n",
      "File \u001b[0;32m~/miniconda3/envs/hugface/lib/python3.8/site-packages/datasets/builder.py:683\u001b[0m, in \u001b[0;36mDatasetBuilder._download_and_prepare\u001b[0;34m(self, dl_manager, verify_infos, **prepare_split_kwargs)\u001b[0m\n\u001b[1;32m    <a href='file:///home/huijie/miniconda3/envs/hugface/lib/python3.8/site-packages/datasets/builder.py?line=678'>679</a>\u001b[0m split_dict\u001b[39m.\u001b[39madd(split_generator\u001b[39m.\u001b[39msplit_info)\n\u001b[1;32m    <a href='file:///home/huijie/miniconda3/envs/hugface/lib/python3.8/site-packages/datasets/builder.py?line=680'>681</a>\u001b[0m \u001b[39mtry\u001b[39;00m:\n\u001b[1;32m    <a href='file:///home/huijie/miniconda3/envs/hugface/lib/python3.8/site-packages/datasets/builder.py?line=681'>682</a>\u001b[0m     \u001b[39m# Prepare split will record examples associated to the split\u001b[39;00m\n\u001b[0;32m--> <a href='file:///home/huijie/miniconda3/envs/hugface/lib/python3.8/site-packages/datasets/builder.py?line=682'>683</a>\u001b[0m     \u001b[39mself\u001b[39;49m\u001b[39m.\u001b[39;49m_prepare_split(split_generator, \u001b[39m*\u001b[39;49m\u001b[39m*\u001b[39;49mprepare_split_kwargs)\n\u001b[1;32m    <a href='file:///home/huijie/miniconda3/envs/hugface/lib/python3.8/site-packages/datasets/builder.py?line=683'>684</a>\u001b[0m \u001b[39mexcept\u001b[39;00m \u001b[39mOSError\u001b[39;00m \u001b[39mas\u001b[39;00m e:\n\u001b[1;32m    <a href='file:///home/huijie/miniconda3/envs/hugface/lib/python3.8/site-packages/datasets/builder.py?line=684'>685</a>\u001b[0m     \u001b[39mraise\u001b[39;00m \u001b[39mOSError\u001b[39;00m(\n\u001b[1;32m    <a href='file:///home/huijie/miniconda3/envs/hugface/lib/python3.8/site-packages/datasets/builder.py?line=685'>686</a>\u001b[0m         \u001b[39m\"\u001b[39m\u001b[39mCannot find data file. \u001b[39m\u001b[39m\"\u001b[39m\n\u001b[1;32m    <a href='file:///home/huijie/miniconda3/envs/hugface/lib/python3.8/site-packages/datasets/builder.py?line=686'>687</a>\u001b[0m         \u001b[39m+\u001b[39m (\u001b[39mself\u001b[39m\u001b[39m.\u001b[39mmanual_download_instructions \u001b[39mor\u001b[39;00m \u001b[39m\"\u001b[39m\u001b[39m\"\u001b[39m)\n\u001b[1;32m    <a href='file:///home/huijie/miniconda3/envs/hugface/lib/python3.8/site-packages/datasets/builder.py?line=687'>688</a>\u001b[0m         \u001b[39m+\u001b[39m \u001b[39m\"\u001b[39m\u001b[39m\\n\u001b[39;00m\u001b[39mOriginal error:\u001b[39m\u001b[39m\\n\u001b[39;00m\u001b[39m\"\u001b[39m\n\u001b[1;32m    <a href='file:///home/huijie/miniconda3/envs/hugface/lib/python3.8/site-packages/datasets/builder.py?line=688'>689</a>\u001b[0m         \u001b[39m+\u001b[39m \u001b[39mstr\u001b[39m(e)\n\u001b[1;32m    <a href='file:///home/huijie/miniconda3/envs/hugface/lib/python3.8/site-packages/datasets/builder.py?line=689'>690</a>\u001b[0m     ) \u001b[39mfrom\u001b[39;00m \u001b[39mNone\u001b[39m\n",
      "File \u001b[0;32m~/miniconda3/envs/hugface/lib/python3.8/site-packages/datasets/builder.py:1133\u001b[0m, in \u001b[0;36mArrowBasedBuilder._prepare_split\u001b[0;34m(self, split_generator)\u001b[0m\n\u001b[1;32m   <a href='file:///home/huijie/miniconda3/envs/hugface/lib/python3.8/site-packages/datasets/builder.py?line=1130'>1131</a>\u001b[0m generator \u001b[39m=\u001b[39m \u001b[39mself\u001b[39m\u001b[39m.\u001b[39m_generate_tables(\u001b[39m*\u001b[39m\u001b[39m*\u001b[39msplit_generator\u001b[39m.\u001b[39mgen_kwargs)\n\u001b[1;32m   <a href='file:///home/huijie/miniconda3/envs/hugface/lib/python3.8/site-packages/datasets/builder.py?line=1131'>1132</a>\u001b[0m \u001b[39mwith\u001b[39;00m ArrowWriter(features\u001b[39m=\u001b[39m\u001b[39mself\u001b[39m\u001b[39m.\u001b[39minfo\u001b[39m.\u001b[39mfeatures, path\u001b[39m=\u001b[39mfpath) \u001b[39mas\u001b[39;00m writer:\n\u001b[0;32m-> <a href='file:///home/huijie/miniconda3/envs/hugface/lib/python3.8/site-packages/datasets/builder.py?line=1132'>1133</a>\u001b[0m     \u001b[39mfor\u001b[39;00m key, table \u001b[39min\u001b[39;00m utils\u001b[39m.\u001b[39mtqdm(\n\u001b[1;32m   <a href='file:///home/huijie/miniconda3/envs/hugface/lib/python3.8/site-packages/datasets/builder.py?line=1133'>1134</a>\u001b[0m         generator, unit\u001b[39m=\u001b[39m\u001b[39m\"\u001b[39m\u001b[39m tables\u001b[39m\u001b[39m\"\u001b[39m, leave\u001b[39m=\u001b[39m\u001b[39mFalse\u001b[39;00m, disable\u001b[39m=\u001b[39m\u001b[39mTrue\u001b[39;00m  \u001b[39m# bool(logging.get_verbosity() == logging.NOTSET)\u001b[39;00m\n\u001b[1;32m   <a href='file:///home/huijie/miniconda3/envs/hugface/lib/python3.8/site-packages/datasets/builder.py?line=1134'>1135</a>\u001b[0m     ):\n\u001b[1;32m   <a href='file:///home/huijie/miniconda3/envs/hugface/lib/python3.8/site-packages/datasets/builder.py?line=1135'>1136</a>\u001b[0m         writer\u001b[39m.\u001b[39mwrite_table(table)\n\u001b[1;32m   <a href='file:///home/huijie/miniconda3/envs/hugface/lib/python3.8/site-packages/datasets/builder.py?line=1136'>1137</a>\u001b[0m     num_examples, num_bytes \u001b[39m=\u001b[39m writer\u001b[39m.\u001b[39mfinalize()\n",
      "File \u001b[0;32m~/miniconda3/envs/hugface/lib/python3.8/site-packages/tqdm/notebook.py:257\u001b[0m, in \u001b[0;36mtqdm_notebook.__iter__\u001b[0;34m(self)\u001b[0m\n\u001b[1;32m    <a href='file:///home/huijie/miniconda3/envs/hugface/lib/python3.8/site-packages/tqdm/notebook.py?line=254'>255</a>\u001b[0m \u001b[39mdef\u001b[39;00m \u001b[39m__iter__\u001b[39m(\u001b[39mself\u001b[39m):\n\u001b[1;32m    <a href='file:///home/huijie/miniconda3/envs/hugface/lib/python3.8/site-packages/tqdm/notebook.py?line=255'>256</a>\u001b[0m     \u001b[39mtry\u001b[39;00m:\n\u001b[0;32m--> <a href='file:///home/huijie/miniconda3/envs/hugface/lib/python3.8/site-packages/tqdm/notebook.py?line=256'>257</a>\u001b[0m         \u001b[39mfor\u001b[39;00m obj \u001b[39min\u001b[39;00m \u001b[39msuper\u001b[39m(tqdm_notebook, \u001b[39mself\u001b[39m)\u001b[39m.\u001b[39m\u001b[39m__iter__\u001b[39m():\n\u001b[1;32m    <a href='file:///home/huijie/miniconda3/envs/hugface/lib/python3.8/site-packages/tqdm/notebook.py?line=257'>258</a>\u001b[0m             \u001b[39m# return super(tqdm...) will not catch exception\u001b[39;00m\n\u001b[1;32m    <a href='file:///home/huijie/miniconda3/envs/hugface/lib/python3.8/site-packages/tqdm/notebook.py?line=258'>259</a>\u001b[0m             \u001b[39myield\u001b[39;00m obj\n\u001b[1;32m    <a href='file:///home/huijie/miniconda3/envs/hugface/lib/python3.8/site-packages/tqdm/notebook.py?line=259'>260</a>\u001b[0m     \u001b[39m# NB: except ... [ as ...] breaks IPython async KeyboardInterrupt\u001b[39;00m\n",
      "File \u001b[0;32m~/miniconda3/envs/hugface/lib/python3.8/site-packages/tqdm/std.py:1183\u001b[0m, in \u001b[0;36mtqdm.__iter__\u001b[0;34m(self)\u001b[0m\n\u001b[1;32m   <a href='file:///home/huijie/miniconda3/envs/hugface/lib/python3.8/site-packages/tqdm/std.py?line=1179'>1180</a>\u001b[0m \u001b[39m# If the bar is disabled, then just walk the iterable\u001b[39;00m\n\u001b[1;32m   <a href='file:///home/huijie/miniconda3/envs/hugface/lib/python3.8/site-packages/tqdm/std.py?line=1180'>1181</a>\u001b[0m \u001b[39m# (note: keep this check outside the loop for performance)\u001b[39;00m\n\u001b[1;32m   <a href='file:///home/huijie/miniconda3/envs/hugface/lib/python3.8/site-packages/tqdm/std.py?line=1181'>1182</a>\u001b[0m \u001b[39mif\u001b[39;00m \u001b[39mself\u001b[39m\u001b[39m.\u001b[39mdisable:\n\u001b[0;32m-> <a href='file:///home/huijie/miniconda3/envs/hugface/lib/python3.8/site-packages/tqdm/std.py?line=1182'>1183</a>\u001b[0m     \u001b[39mfor\u001b[39;00m obj \u001b[39min\u001b[39;00m iterable:\n\u001b[1;32m   <a href='file:///home/huijie/miniconda3/envs/hugface/lib/python3.8/site-packages/tqdm/std.py?line=1183'>1184</a>\u001b[0m         \u001b[39myield\u001b[39;00m obj\n\u001b[1;32m   <a href='file:///home/huijie/miniconda3/envs/hugface/lib/python3.8/site-packages/tqdm/std.py?line=1184'>1185</a>\u001b[0m     \u001b[39mreturn\u001b[39;00m\n",
      "File \u001b[0;32m~/miniconda3/envs/hugface/lib/python3.8/site-packages/datasets/packaged_modules/json/json.py:146\u001b[0m, in \u001b[0;36mJson._generate_tables\u001b[0;34m(self, files)\u001b[0m\n\u001b[1;32m    <a href='file:///home/huijie/miniconda3/envs/hugface/lib/python3.8/site-packages/datasets/packaged_modules/json/json.py?line=143'>144</a>\u001b[0m             dataset \u001b[39m=\u001b[39m json\u001b[39m.\u001b[39mload(f)\n\u001b[1;32m    <a href='file:///home/huijie/miniconda3/envs/hugface/lib/python3.8/site-packages/datasets/packaged_modules/json/json.py?line=144'>145</a>\u001b[0m     \u001b[39mexcept\u001b[39;00m json\u001b[39m.\u001b[39mJSONDecodeError:\n\u001b[0;32m--> <a href='file:///home/huijie/miniconda3/envs/hugface/lib/python3.8/site-packages/datasets/packaged_modules/json/json.py?line=145'>146</a>\u001b[0m         \u001b[39mraise\u001b[39;00m e\n\u001b[1;32m    <a href='file:///home/huijie/miniconda3/envs/hugface/lib/python3.8/site-packages/datasets/packaged_modules/json/json.py?line=146'>147</a>\u001b[0m     \u001b[39mraise\u001b[39;00m \u001b[39mValueError\u001b[39;00m(\n\u001b[1;32m    <a href='file:///home/huijie/miniconda3/envs/hugface/lib/python3.8/site-packages/datasets/packaged_modules/json/json.py?line=147'>148</a>\u001b[0m         \u001b[39mf\u001b[39m\u001b[39m\"\u001b[39m\u001b[39mNot able to read records in the JSON file at \u001b[39m\u001b[39m{\u001b[39;00mfile\u001b[39m}\u001b[39;00m\u001b[39m. \u001b[39m\u001b[39m\"\u001b[39m\n\u001b[1;32m    <a href='file:///home/huijie/miniconda3/envs/hugface/lib/python3.8/site-packages/datasets/packaged_modules/json/json.py?line=148'>149</a>\u001b[0m         \u001b[39mf\u001b[39m\u001b[39m\"\u001b[39m\u001b[39mYou should probably indicate the field of the JSON file containing your records. \u001b[39m\u001b[39m\"\u001b[39m\n\u001b[1;32m    <a href='file:///home/huijie/miniconda3/envs/hugface/lib/python3.8/site-packages/datasets/packaged_modules/json/json.py?line=149'>150</a>\u001b[0m         \u001b[39mf\u001b[39m\u001b[39m\"\u001b[39m\u001b[39mThis JSON file contain the following fields: \u001b[39m\u001b[39m{\u001b[39;00m\u001b[39mstr\u001b[39m(\u001b[39mlist\u001b[39m(dataset\u001b[39m.\u001b[39mkeys()))\u001b[39m}\u001b[39;00m\u001b[39m. \u001b[39m\u001b[39m\"\u001b[39m\n\u001b[1;32m    <a href='file:///home/huijie/miniconda3/envs/hugface/lib/python3.8/site-packages/datasets/packaged_modules/json/json.py?line=150'>151</a>\u001b[0m         \u001b[39mf\u001b[39m\u001b[39m\"\u001b[39m\u001b[39mSelect the correct one and provide it as `field=\u001b[39m\u001b[39m'\u001b[39m\u001b[39mXXX\u001b[39m\u001b[39m'\u001b[39m\u001b[39m` to the dataset loading method. \u001b[39m\u001b[39m\"\u001b[39m\n\u001b[1;32m    <a href='file:///home/huijie/miniconda3/envs/hugface/lib/python3.8/site-packages/datasets/packaged_modules/json/json.py?line=151'>152</a>\u001b[0m     ) \u001b[39mfrom\u001b[39;00m \u001b[39mNone\u001b[39m\n\u001b[1;32m    <a href='file:///home/huijie/miniconda3/envs/hugface/lib/python3.8/site-packages/datasets/packaged_modules/json/json.py?line=152'>153</a>\u001b[0m \u001b[39m# Uncomment for debugging (will print the Arrow table size and elements)\u001b[39;00m\n\u001b[1;32m    <a href='file:///home/huijie/miniconda3/envs/hugface/lib/python3.8/site-packages/datasets/packaged_modules/json/json.py?line=153'>154</a>\u001b[0m \u001b[39m# logger.warning(f\"pa_table: {pa_table} num rows: {pa_table.num_rows}\")\u001b[39;00m\n\u001b[1;32m    <a href='file:///home/huijie/miniconda3/envs/hugface/lib/python3.8/site-packages/datasets/packaged_modules/json/json.py?line=154'>155</a>\u001b[0m \u001b[39m# logger.warning('\\n'.join(str(pa_table.slice(i, 1).to_pydict()) for i in range(pa_table.num_rows)))\u001b[39;00m\n",
      "File \u001b[0;32m~/miniconda3/envs/hugface/lib/python3.8/site-packages/datasets/packaged_modules/json/json.py:122\u001b[0m, in \u001b[0;36mJson._generate_tables\u001b[0;34m(self, files)\u001b[0m\n\u001b[1;32m    <a href='file:///home/huijie/miniconda3/envs/hugface/lib/python3.8/site-packages/datasets/packaged_modules/json/json.py?line=119'>120</a>\u001b[0m \u001b[39mwhile\u001b[39;00m \u001b[39mTrue\u001b[39;00m:\n\u001b[1;32m    <a href='file:///home/huijie/miniconda3/envs/hugface/lib/python3.8/site-packages/datasets/packaged_modules/json/json.py?line=120'>121</a>\u001b[0m     \u001b[39mtry\u001b[39;00m:\n\u001b[0;32m--> <a href='file:///home/huijie/miniconda3/envs/hugface/lib/python3.8/site-packages/datasets/packaged_modules/json/json.py?line=121'>122</a>\u001b[0m         pa_table \u001b[39m=\u001b[39m paj\u001b[39m.\u001b[39;49mread_json(\n\u001b[1;32m    <a href='file:///home/huijie/miniconda3/envs/hugface/lib/python3.8/site-packages/datasets/packaged_modules/json/json.py?line=122'>123</a>\u001b[0m             io\u001b[39m.\u001b[39;49mBytesIO(batch), read_options\u001b[39m=\u001b[39;49mpaj\u001b[39m.\u001b[39;49mReadOptions(block_size\u001b[39m=\u001b[39;49mblock_size)\n\u001b[1;32m    <a href='file:///home/huijie/miniconda3/envs/hugface/lib/python3.8/site-packages/datasets/packaged_modules/json/json.py?line=123'>124</a>\u001b[0m         )\n\u001b[1;32m    <a href='file:///home/huijie/miniconda3/envs/hugface/lib/python3.8/site-packages/datasets/packaged_modules/json/json.py?line=124'>125</a>\u001b[0m         \u001b[39mbreak\u001b[39;00m\n\u001b[1;32m    <a href='file:///home/huijie/miniconda3/envs/hugface/lib/python3.8/site-packages/datasets/packaged_modules/json/json.py?line=125'>126</a>\u001b[0m     \u001b[39mexcept\u001b[39;00m (pa\u001b[39m.\u001b[39mArrowInvalid, pa\u001b[39m.\u001b[39mArrowNotImplementedError) \u001b[39mas\u001b[39;00m e:\n",
      "File \u001b[0;32m~/miniconda3/envs/hugface/lib/python3.8/site-packages/pyarrow/_json.pyx:246\u001b[0m, in \u001b[0;36mpyarrow._json.read_json\u001b[0;34m()\u001b[0m\n",
      "File \u001b[0;32m~/miniconda3/envs/hugface/lib/python3.8/site-packages/pyarrow/error.pxi:143\u001b[0m, in \u001b[0;36mpyarrow.lib.pyarrow_internal_check_status\u001b[0;34m()\u001b[0m\n",
      "File \u001b[0;32m~/miniconda3/envs/hugface/lib/python3.8/site-packages/pyarrow/error.pxi:99\u001b[0m, in \u001b[0;36mpyarrow.lib.check_status\u001b[0;34m()\u001b[0m\n",
      "\u001b[0;31mArrowInvalid\u001b[0m: JSON parse error: Column() changed from object to array in row 0"
     ]
    }
   ],
   "source": [
    "dataset = load_dataset(\"json\", data_files=\"/home/huijie/legal/cail2019_track2/data/divorce/train_selected.json\")\n",
    "# print(hklii_dataset)\n",
    "#hklii_dataset = hklii_dataset.shuffle(seed=42) # not need for this step\n",
    "# hklii_dataset = hklii_dataset.map(\n",
    "#     lowercase_condition, batched=True,num_proc = 16\n",
    "# )\n",
    "dataset = dataset[\"train\"].train_test_split(test_size=0.1)\n",
    "print(dataset)"
   ]
  },
  {
   "cell_type": "code",
   "execution_count": null,
   "metadata": {},
   "outputs": [],
   "source": [
    "import os \n",
    "import json\n",
    "\n",
    "data_di=[]\n",
    "with open('/home/xiangwei/classify/divorce.json','r',encoding='utf8')as fp:\n",
    "    lines=fp.readlines()\n",
    "\n",
    "for line in lines:\n",
    "    data_di.append(json.loads(line))\n",
    "\n",
    "temp=[]    \n",
    "for d in data_di:\n",
    "    temp.extend(d)\n",
    "\n",
    "data_la=[]\n",
    "with open('/home/xiangwei/classify/labor.json','r',encoding='utf8')as fp:\n",
    "    lines=fp.readlines()\n",
    "\n",
    "for line in lines:\n",
    "    data_la.append(json.loads(line))\n",
    "\n",
    "temp=[]    \n",
    "for d in data_la:\n",
    "    temp.extend(d)\n",
    "data_la=temp\n",
    "data_lo=[]\n",
    "with open('/home/xiangwei/classify/loan.json','r',encoding='utf8')as fp:\n",
    "    lines=fp.readlines()\n",
    "\n",
    "for line in lines:\n",
    "    data_lo.append(json.loads(line))\n",
    "\n",
    "temp=[]    \n",
    "for d in data_lo:\n",
    "    temp.extend(d)\n",
    "data_lo=temp\n",
    "data_lo[8]"
   ]
  },
  {
   "cell_type": "code",
   "execution_count": null,
   "metadata": {},
   "outputs": [],
   "source": [
    "def convert_label(data):\n",
    "    for i in range(len(data)):\n",
    "        temp=[0]*20\n",
    "        for label in data[i]['labels']:\n",
    "            label=int(label[2:])-1\n",
    "            temp[label]=1\n",
    "        data[i]['labels']=temp\n",
    "            \n",
    "convert_label(data_di)\n",
    "convert_label(data_la)\n",
    "convert_label(data_lo)"
   ]
  },
  {
   "cell_type": "code",
   "execution_count": null,
   "metadata": {},
   "outputs": [],
   "source": [
    "for d in data_di:\n",
    "    d['labels']=d['labels']+[0]*40\n",
    "    \n",
    "for d in data_la:\n",
    "    d['labels']=[0]*20+d['labels']+[0]*20\n",
    "    \n",
    "for d in data_lo:\n",
    "    d['labels']=[0]*40+d['labels']\n",
    "    "
   ]
  }
 ],
 "metadata": {
  "interpreter": {
   "hash": "344c146f3d74f7efd360abb5a7510a11c28372d218d34b58ffcf5f0c0e1377b6"
  },
  "kernelspec": {
   "display_name": "Python 3.8.12 ('hugface')",
   "language": "python",
   "name": "python3"
  },
  "language_info": {
   "codemirror_mode": {
    "name": "ipython",
    "version": 3
   },
   "file_extension": ".py",
   "mimetype": "text/x-python",
   "name": "python",
   "nbconvert_exporter": "python",
   "pygments_lexer": "ipython3",
   "version": "3.8.12"
  },
  "orig_nbformat": 4
 },
 "nbformat": 4,
 "nbformat_minor": 2
}
